{
 "cells": [
  {
   "cell_type": "markdown",
   "id": "0b0e6690",
   "metadata": {},
   "source": [
    "# Term Project_전기차 충전소가 정말 부족할까?"
   ]
  },
  {
   "cell_type": "markdown",
   "id": "ab050f7c",
   "metadata": {},
   "source": [
    "(1) 주제 선정 이유: <br>\n",
    "    전기차가 상용화된지 많은 시간이 지났지만 아직까지 전기차 수에 비해 전기차 충전소가 부족하다고 한다. 이것이 정말인지 일반 자동차와 비교하여 확인하고자 선정했다."
   ]
  },
  {
   "cell_type": "markdown",
   "id": "33726227",
   "metadata": {},
   "source": [
    "(2) 가설 정의: <br>\n",
    "    일반 자동차와 주유소의 비율보다 전기차와 충전소의 비율이 더 작을 것이다."
   ]
  },
  {
   "cell_type": "markdown",
   "id": "f0e26a0e",
   "metadata": {},
   "source": [
    "(3) 인터넷을 통한 데이터 획득: <br>\n",
    "    정부3.0에서 전국 전기차 충전소 데이터(API)를 얻는다.<br>\n",
    "    정부3.0에서 한국도로공사_주유소별 가격,업체 현황 데이터(csv)를 얻는다.<br>\n",
    "    정부3.0에서 국토교통부 자동차 등록 현황 데이터(excel)를 얻는다.<br>\n",
    "    API사용을 위해 행정표준코드관리시스템에서 법정동코드 데이터(csv)를 얻는다."
   ]
  },
  {
   "cell_type": "markdown",
   "id": "973aef53",
   "metadata": {},
   "source": [
    "(4) 분석을 위한 데이터의 가공: <br>\n",
    "    법정동코드 데이터를 통해 폐지되지않은 법정동코드를 구한뒤 7자리의 코드중 필요한 앞부분 2개만 추출한다.<br>\n",
    "    전국 전기차 충전소 데이터와 추출한 법정동코드를 통해 전국의 충전소의 개수를 파악한다.<br>\n",
    "    한국도로공사_주유소별 가격,업체 현황 데이터 통해 전국의 주유소의 수를 파악한다.<br>\n",
    "    국토교통부 자동차 등록 현황 데이터 통해 전국의 일반 자동차와 전기차의 차량수를 파악한다.<br>\n",
    "    일반자동차의 수를 주유소의 수로 나눈 값과 전기차의 수를 충전소의 수로 나눈값과 비교한다.<br>"
   ]
  },
  {
   "attachments": {},
   "cell_type": "markdown",
   "id": "04c9b382",
   "metadata": {},
   "source": [
    "(5) 분석 결과 도출:<br>\n",
    "전국의 일반 자동차의 수는 22702848대, 전기 자동차의 수는 272656대이고 전국의 주유소는 11402개, 전기차 충전소는 119035대가 있다는 결과가 나왔다.<br>\n",
    "    이때 (주유소 수)/(자동차 수)의 식을 통해 일반 자동차 한대당 주유소는 0.003013개가 있고 전기 자동차 한대당 충전소는 0.436576개가 있다는것을 파악했다.<br>\n",
    "    이렇게 주유소보다 전기차 충전소가 훨씬 작다는 결과가 나왔다.<br><br>\n",
    "    하지만 이 결과는 주유소의 평균 주유 기계의 대수, 전기 자동차와 일반 자동차의 연비차이, 전기 자동차와 일반 자동차의 평균 연료 보관량의 차이를 전혀 고려하지않은 결과이다.<br>\n",
    "    정확한 결과를 도출하기 위해서는 상기 언급한 자료들을 획득 및 분석을 해야하는데, 이 프로젝트에서는 상기 언급한 자료를 찾지 못하여 주유소보다 전기차 충전소가 훨씬 적다는 결과가 도출되었다."
   ]
  },
  {
   "cell_type": "markdown",
   "id": "0605a736",
   "metadata": {},
   "source": [
    "(6) 결론:<br>\n",
    "    이 프로젝트에서 자료를 획득 및 분석한 결과로는 전기차 충전소가 주유소보다 많다는 결과가 나왔다."
   ]
  },
  {
   "cell_type": "markdown",
   "id": "49a49869",
   "metadata": {},
   "source": [
    "(7) 참고문헌:<br>\n",
    "    정부3.0 API사용법 및 xml가공법: https://wonhwa.tistory.com/16<br>\n",
    "    pandas 인코딩 오류 해결법: https://zephyrus1111.tistory.com/39<br>\n",
    "    파이썬으로 데이터 주무르기(1판), 민형기 지음, 비제이퍼블릭 출판"
   ]
  },
  {
   "cell_type": "markdown",
   "id": "9c2760b1",
   "metadata": {},
   "source": [
    "(8) 별첨: (3)의 획득한 데이터 원본<br>\n",
    "    'work'폴더 확인"
   ]
  },
  {
   "cell_type": "markdown",
   "id": "0499a327",
   "metadata": {},
   "source": [
    "(9) 별첨: (4)의 가공된 데이터 원본<br>\n",
    "    'result'폴더 확인"
   ]
  },
  {
   "cell_type": "markdown",
   "id": "75da0215",
   "metadata": {},
   "source": [
    "(10) 별첨: (3)을 (4)로 변환하는 등의 작업을 위하여 본인이 직접 개발한 Python 소스코드 원본<br>\n",
    "    "
   ]
  },
  {
   "cell_type": "code",
   "execution_count": null,
   "id": "f41d3154",
   "metadata": {
    "scrolled": true
   },
   "outputs": [],
   "source": [
    "import pandas as pd\n",
    "import requests\n",
    "import bs4\n",
    "import os\n",
    "from dotenv import load_dotenv\n",
    "\n",
    "load_dotenv()\n",
    "\n",
    "#전국 및 지역 주유소 데이터\n",
    "GasStations=pd.read_csv('./work/Gas_Station.csv', encoding='cp949') #csv 읽기\n",
    "GasStations.set_index('시도', inplace=True) #인덱스를 시도로 변경\n",
    "Nation_GasStations=GasStations.at['전국','주유소 수']\n",
    "\n",
    "\n",
    "\n",
    "#내연 및 전기 자동차 데이터\n",
    "Cars=pd.read_excel('./work/Cars.xlsx', sheet_name='10.연료별_등록현황', usecols='A,U', header=3) #excel 읽기\n",
    "Cars.rename(columns={Cars.columns[0]:'연료',Cars.columns[1]:'합계'},inplace=True) #열 이름 변경\n",
    "Cars['연료'].fillna(method='ffill', inplace=True) #NAN 값을 연료 이름으로 채움\n",
    "Cars.drop_duplicates(['연료'], keep='last', inplace=True) #각 연료의 마지막 부분인 총계만 남기고 제거\n",
    "Cars.set_index('연료', inplace=True) #인덱스를 연료로 변경\n",
    "Electric_Cars=Cars.at['전기','합계']\n",
    "Internal_Combustion_Cars=Cars.at['휘발유','합계']+Cars.at['경유','합계']+Cars.at['하이브리드(휘발유+전기)','합계']+Cars.at['하이브리드(경유+전기)','합계']\n",
    "\n",
    "\n",
    "\n",
    "#전기차 충전소 API\n",
    "def getElectricStations(zcode):\n",
    "    url = 'http://apis.data.go.kr/B552584/EvCharger/getChargerInfo'\n",
    "    pageNo='1' #페이지번호\n",
    "    numOfRows='10' #한번에 받을 정보 개수\n",
    "    serviceKey = os.environ.get(\"ELECTRIC_STATION_API_KEY\")\n",
    "    params ={'serviceKey' : serviceKey, 'pageNo' : pageNo, 'numOfRows' : numOfRows, 'zcode' : zcode }\n",
    "    response = requests.get(url, params=params) #api response\n",
    "    content = response.text\n",
    "    \n",
    "    xml_obj = bs4.BeautifulSoup(content,'lxml-xml') #totalCount 추출\n",
    "    rows = xml_obj.find('totalCount')\n",
    "    return int(rows.get_text())\n",
    "\n",
    "#폐지되지 않은 법정동코드 데이터\n",
    "ZcodeData=pd.read_csv('./work/법정동코드 전체자료.csv', encoding='cp949', delimiter='\\t')\n",
    "ZcodeData.set_index('폐지여부', inplace=True) #폐지여부를 인덱스로 설정\n",
    "ZcodeData.drop(['폐지'], inplace=True) #인덱스를 사용하여 폐지된 법정동코드 삭제\n",
    "L_zcode=ZcodeData['법정동코드']\n",
    "R_zcode=[]\n",
    "for i in L_zcode: #7자리의 법정동코드중 API에 필요한 앞의 두숫자만 추출\n",
    "    R_zcode.append(str(i)[0:2])    \n",
    "ZcodeData['법정동코드']=R_zcode\n",
    "\n",
    "ZcodeData.drop_duplicates(['법정동코드'], inplace=True) #중복되는 법정동코드 삭제\n",
    "zcode=ZcodeData['법정동코드']\n",
    "\n",
    "#전기차 충전소 데이터\n",
    "ElectricStations=0\n",
    "for i in zcode:\n",
    "    ElectricStations+=getElectricStations(i) #추출한 법정동코드를 API에 입력 및 결과값 누적\n",
    "        \n",
    "        \n",
    "        \n",
    "        \n",
    "        \n",
    "#결과 처리\n",
    "resultOf_Electric_Cars = ElectricStations/Electric_Cars\n",
    "resultOf_Internal_Combustion_Cars = Nation_GasStations*6/Internal_Combustion_Cars\n",
    "\n",
    "#결과 저장\n",
    "result_data = pd.DataFrame(data=[[Nation_GasStations,Internal_Combustion_Cars,resultOf_Internal_Combustion_Cars],[ElectricStations,Electric_Cars,resultOf_Electric_Cars]],index=['일반 자동차','전기 자동차'],columns=['주유소 수','자동차 수','주유소 수 / 자동차 수'])\n",
    "print(result_data)\n",
    "result_data.to_excel('./result/result.xlsx', sheet_name='result')\n",
    "        "
   ]
  }
 ],
 "metadata": {
  "kernelspec": {
   "display_name": "Python 3",
   "language": "python",
   "name": "python3"
  },
  "language_info": {
   "codemirror_mode": {
    "name": "ipython",
    "version": 3
   },
   "file_extension": ".py",
   "mimetype": "text/x-python",
   "name": "python",
   "nbconvert_exporter": "python",
   "pygments_lexer": "ipython3",
   "version": "3.11.1"
  }
 },
 "nbformat": 4,
 "nbformat_minor": 5
}
